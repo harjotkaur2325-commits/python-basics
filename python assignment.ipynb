{
  "nbformat": 4,
  "nbformat_minor": 0,
  "metadata": {
    "colab": {
      "provenance": []
    },
    "kernelspec": {
      "name": "python3",
      "display_name": "Python 3"
    },
    "language_info": {
      "name": "python"
    }
  },
  "cells": [
    {
      "cell_type": "markdown",
      "source": [
        "python basics\n",
        "1.  What is Python, and why is it popular ?\n",
        "   -  python is a high-level,interpreted programming language. it is used in many areas of development ans is considered perfect language for scripting.\n",
        "   - why popular:-\n",
        "   - simple and easy to learn : syntax is simple, almost like english.\n",
        "   - rich library support : it contains powerful modules like NumPy,Panda,Matplotlib, etc.\n",
        "   - versatility - python perform wide variety of taskes and fields like web development,data science,game development etc.\n",
        "   - huge active community.\n",
        "\n",
        "---\n",
        "2. What is an interpreter in Python ?\n",
        " - In python interpreter is a program that reads and executes python code line by line. It converts the human readable python code into machine code that the computer can understand and run. how it works:- reads the code-< checks for errors-< translates each line into machine language-< executes it immediately.\n",
        "\n",
        "---\n",
        "3. What are pre-defined keywords in Python ?\n",
        " - pre-defined keywords in python are the special words that have fixed meaning in the python language.according to python rules, these can not be used as variable names,fuction names,or indentifiers. for example : True, false,def .\n",
        "\n",
        "\n",
        "---\n",
        "4. Can keywords be used as variable names ?\n",
        " - No, keywords are not be used as a variable names, because keywords arae the reserved by python for specific purposes in the language,syntax. if we try to use them as varible names, python will show an syntax error.\n",
        "\n",
        "\n",
        "---\n",
        "5. What is mutability in Python ?\n",
        " - Basically in python there are two types of objects mutable or immutable , according to these types mutability refers to the ability of an object to be modified in palce-without created a new object in memory .\n",
        "\n",
        "\n",
        "---\n",
        "6. Why are lists mutable, but tuples are immutable ?\n",
        " - lists are made for storing things that may change like shopping list.but tuples are made for storing fixed data like months of year. so in lists we can add, remove,or modify items anytime. however, in tuples ,their contents cannot be altered after creation.\n",
        "\n",
        "\n",
        "---\n",
        "7. What is the difference between “==” and “is” operators in Python ?\n",
        " -  While \"==\" is used to check if values are same or not . but \"is\" opertors check if both varibleas refer to the same object in the memory.\n",
        "\n",
        "\n",
        "---\n",
        "8. What are logical operators in Python ?\n",
        " - Logical operators are operators used to combine conditional satements and make decision in a program. there are 3 logical operators: and , or , not.\n",
        "  * and - it return true if both the condition are true like a = 6 ,b =5 (a>4 and b>20).\n",
        " * or - returns true if any one condition is true. a>10 or a<20.\n",
        "* Not - Reverses the logical values.\n",
        "\n",
        "\n",
        "---\n",
        "9. What is type casting in Python ?\n",
        " - type casting in python is the process of converting a variable from on data type to another using built-in function like int(), float(), str(), bool().\n",
        "\n",
        "\n",
        "---\n",
        "10. What is the difference between implicit and explicit type casting ?\n",
        " - * implicit type casting - python automatically converts on data type to another without you writing any code. as in c or c++ we need to write the type of data then it will execute it but python is very powerful language it will automatically determine the type of data by its own.\n",
        "  * Explicit type casting - python also allow us to manually convert th value from one data type to another using castiong function like int(), float(), str(), bool().\n",
        "\n",
        "\n",
        "---\n",
        "\n",
        "11. What is the purpose of conditional statements in Python ?\n",
        " -  conditional statements are used to make decision in a program. they allow the program to execute certain code if the condition is True. and skip if it is false. as it als control the flow of code as it execute the relevant part of the code , not all.\n",
        "\n",
        "\n",
        "---\n",
        "12. How does the elif statement work ?\n",
        "- elif statement refers to else if statement. it is used after an if statement to check another condition if the first condition is false. how it works:- 1. python checks the if statement first, if it is true , the code of block is executed and skip all the condition. but if false then it move not elif conditions ,same if the condition is true then it will execute the blick of code otherwise move to else statement.\n",
        "\n",
        "\n",
        "---\n",
        "\n",
        "13.What is the difference between for and while loops ?\n",
        "-  for loop - purpose -  it is used to repeat the code a fixed number of times(iterates over a sequence like list, string,range)\n",
        "- number of iterations - fixed\n",
        "- syntax - for item in sequence:\n",
        "- while loop - purpose - it is  used to repeat the code as long as a condtion is true.\n",
        "- number of iterations - not fixed\n",
        "- syntax - while condition:\n",
        "\n",
        "\n",
        "---\n",
        "14. Describe a scenario where a while loop is more suitable than a for loop?\n",
        " - i think while loop is best in bank ATM verification scenario -- how let's see:\n",
        "  while entering the ATM pin . we donot now how many attempts a user will take. so in this suitation while loop is perfectly work. if the pin is correct than the user will able access their atm services. if not it will try again and again.   \n",
        "\n",
        "\n",
        "\n",
        "\n",
        "\n",
        "\n",
        "\n",
        "    \n",
        "\n",
        "\n",
        "\n",
        "\n",
        "\n",
        "\n",
        "\n",
        "\n",
        "\n",
        "\n",
        "\n",
        "\n",
        "\n",
        "\n",
        "\n",
        "\n",
        "\n"
      ],
      "metadata": {
        "id": "GXEXQhkEjchZ"
      }
    },
    {
      "cell_type": "code",
      "execution_count": 1,
      "metadata": {
        "id": "jALJsrpAjWOA",
        "colab": {
          "base_uri": "https://localhost:8080/"
        },
        "outputId": "07200069-e251-4a57-fdd2-4c094bc66acb"
      },
      "outputs": [
        {
          "output_type": "stream",
          "name": "stdout",
          "text": [
            "Hello, world!\n"
          ]
        }
      ],
      "source": [
        "# 1.Write a Python program to print \"Hello, World!\n",
        "print(\"Hello, world!\")"
      ]
    },
    {
      "cell_type": "code",
      "source": [
        "# 2.Write a Python program that displays your name and age\n",
        "name = \"Rahul\"\n",
        "age = 23\n",
        "print(name)\n",
        "print(age)"
      ],
      "metadata": {
        "colab": {
          "base_uri": "https://localhost:8080/"
        },
        "id": "nQ59N51TaL9d",
        "outputId": "d70b7da6-7dda-4cd0-b9a3-9d69f15d3f38"
      },
      "execution_count": 2,
      "outputs": [
        {
          "output_type": "stream",
          "name": "stdout",
          "text": [
            "Rahul\n",
            "23\n"
          ]
        }
      ]
    },
    {
      "cell_type": "code",
      "source": [
        "# 3.Write code to print all the pre-defined keywords in Python using the keyword library?\n",
        "import keyword\n",
        "print(keyword.kwlist)"
      ],
      "metadata": {
        "colab": {
          "base_uri": "https://localhost:8080/"
        },
        "id": "XgaUiwnfaz2y",
        "outputId": "91b21928-6af3-495f-8e79-c92805f3fe3a"
      },
      "execution_count": 5,
      "outputs": [
        {
          "output_type": "stream",
          "name": "stdout",
          "text": [
            "['False', 'None', 'True', 'and', 'as', 'assert', 'async', 'await', 'break', 'class', 'continue', 'def', 'del', 'elif', 'else', 'except', 'finally', 'for', 'from', 'global', 'if', 'import', 'in', 'is', 'lambda', 'nonlocal', 'not', 'or', 'pass', 'raise', 'return', 'try', 'while', 'with', 'yield']\n"
          ]
        }
      ]
    },
    {
      "cell_type": "code",
      "source": [
        "# 4.Write a program that checks if a given word is a Python keyword.\n",
        "import keyword\n",
        "word = \"True\"\n",
        "if keyword.iskeyword(word):\n",
        "  print(f\"{word} is a keyword\")\n",
        "else:\n",
        "  print(f\"{word}is not a keyword\")"
      ],
      "metadata": {
        "colab": {
          "base_uri": "https://localhost:8080/"
        },
        "id": "BaRZMG8oa0FL",
        "outputId": "f53ed66e-2d58-4d85-f2e4-2fc418374fa7"
      },
      "execution_count": 8,
      "outputs": [
        {
          "output_type": "stream",
          "name": "stdout",
          "text": [
            "True is a keyword\n"
          ]
        }
      ]
    },
    {
      "cell_type": "code",
      "source": [
        "# 5.Create a list and tuple in Python, and demonstrate how attempting to change an element works differently for each\n",
        "my_list = [10, 20, 30, 40]\n",
        "print(\"Original List:\", my_list)\n",
        "\n",
        "my_list[2] = 99\n",
        "print(\"Modified List:\", my_list)\n",
        "\n",
        "# Creating a tuple\n",
        "my_tuple = (10, 20, 30, 40)\n",
        "print(\"Original Tuple:\", my_tuple)\n",
        "\n",
        "my_tuple[2] = 99\n",
        "print(\"Modified tuple\",my_tuple)\n",
        "\n"
      ],
      "metadata": {
        "colab": {
          "base_uri": "https://localhost:8080/",
          "height": 263
        },
        "id": "nGZDH3Saa0IX",
        "outputId": "095cf484-0cd2-4180-f0ff-d0ab06b0dca4"
      },
      "execution_count": 10,
      "outputs": [
        {
          "output_type": "stream",
          "name": "stdout",
          "text": [
            "Original List: [10, 20, 30, 40]\n",
            "Modified List: [10, 20, 99, 40]\n",
            "Original Tuple: (10, 20, 30, 40)\n"
          ]
        },
        {
          "output_type": "error",
          "ename": "TypeError",
          "evalue": "'tuple' object does not support item assignment",
          "traceback": [
            "\u001b[0;31m---------------------------------------------------------------------------\u001b[0m",
            "\u001b[0;31mTypeError\u001b[0m                                 Traceback (most recent call last)",
            "\u001b[0;32m/tmp/ipython-input-4035703720.py\u001b[0m in \u001b[0;36m<cell line: 0>\u001b[0;34m()\u001b[0m\n\u001b[1;32m     10\u001b[0m \u001b[0mprint\u001b[0m\u001b[0;34m(\u001b[0m\u001b[0;34m\"Original Tuple:\"\u001b[0m\u001b[0;34m,\u001b[0m \u001b[0mmy_tuple\u001b[0m\u001b[0;34m)\u001b[0m\u001b[0;34m\u001b[0m\u001b[0;34m\u001b[0m\u001b[0m\n\u001b[1;32m     11\u001b[0m \u001b[0;34m\u001b[0m\u001b[0m\n\u001b[0;32m---> 12\u001b[0;31m \u001b[0mmy_tuple\u001b[0m\u001b[0;34m[\u001b[0m\u001b[0;36m2\u001b[0m\u001b[0;34m]\u001b[0m \u001b[0;34m=\u001b[0m \u001b[0;36m99\u001b[0m\u001b[0;34m\u001b[0m\u001b[0;34m\u001b[0m\u001b[0m\n\u001b[0m\u001b[1;32m     13\u001b[0m \u001b[0mprint\u001b[0m\u001b[0;34m(\u001b[0m\u001b[0;34m\"Modified tuple\"\u001b[0m\u001b[0;34m,\u001b[0m\u001b[0mmy_tuple\u001b[0m\u001b[0;34m)\u001b[0m\u001b[0;34m\u001b[0m\u001b[0;34m\u001b[0m\u001b[0m\n\u001b[1;32m     14\u001b[0m \u001b[0;34m\u001b[0m\u001b[0m\n",
            "\u001b[0;31mTypeError\u001b[0m: 'tuple' object does not support item assignment"
          ]
        }
      ]
    },
    {
      "cell_type": "code",
      "source": [
        "# 6.Write a function to demonstrate the behavior of mutable and immutable arguments\n",
        "def modify(a,b):\n",
        "    a = a*2\n",
        "    b.append(200)\n",
        "    print(\"inside the function\")\n",
        "    print(\"a = \",a)\n",
        "    print(\"b = \", b)\n",
        "\n",
        "z = 10\n",
        "y = [10,20,30,40]\n",
        "modify(z ,y)\n",
        "print(\"outside the function\")\n",
        "print(\"z = \",z)\n",
        "print(\"y = \",y)"
      ],
      "metadata": {
        "colab": {
          "base_uri": "https://localhost:8080/"
        },
        "id": "9vpzCl8Wa0Ln",
        "outputId": "10a49048-02c7-40a6-e843-688c9167b910"
      },
      "execution_count": 24,
      "outputs": [
        {
          "output_type": "stream",
          "name": "stdout",
          "text": [
            "inside the function\n",
            "a =  20\n",
            "b =  [10, 20, 30, 40, 200]\n",
            "outside the function\n",
            "z =  10\n",
            "y =  [10, 20, 30, 40, 200]\n"
          ]
        }
      ]
    },
    {
      "cell_type": "code",
      "source": [
        "#7.Write a program that performs basic arithmetic operations on two user-input numbers\n",
        "num1 = float(input(\"enter the first number:\"))\n",
        "num2 = float(input(\"enter the second number:\"))\n",
        "sum = num1 + num2\n",
        "sub = num1 - num2\n",
        "mul = num1 * num2\n",
        "div = num1 / num2\n",
        "print(f\"sum of {num1} and {num2} is {sum}\")\n",
        "print(f\"sub of {num1} and {num2} is {sub}\")\n",
        "print(f\"mul of {num1} and {num2} is {mul}\")\n",
        "print(f\"div of {num1} and {num2} is {div}\")"
      ],
      "metadata": {
        "colab": {
          "base_uri": "https://localhost:8080/"
        },
        "id": "TWg8ekSBa0Op",
        "outputId": "420dcfff-a375-45a6-e699-2c5ddef2a112"
      },
      "execution_count": 26,
      "outputs": [
        {
          "output_type": "stream",
          "name": "stdout",
          "text": [
            "enter the first number:45\n",
            "enter the second number:5\n",
            "sum of 45.0 and 5.0 is 50.0\n",
            "sub of 45.0 and 5.0 is 40.0\n",
            "mul of 45.0 and 5.0 is 225.0\n",
            "div of 45.0 and 5.0 is 9.0\n"
          ]
        }
      ]
    },
    {
      "cell_type": "code",
      "source": [
        "# 8. Write a program to demonstrate the use of logical operators\n",
        "x = 10\n",
        "y = 20\n",
        "z = 5\n",
        "# Using \"and\" operator\n",
        "print(\"x < y and y > z:\", x < y and y > z)\n",
        "print(\"x > y and y > z:\", x > y and y > z)\n",
        "\n",
        "# Using 'or' operator\n",
        "print(\"\\nx < y or y < z:\", x < y or y < z)\n",
        "print(\"x > y or y < z:\", x > y or y < z)\n",
        "\n",
        "# Using 'not' operator\n",
        "print(\"\\nnot(x < z):\", not(x < z))\n",
        "print(\"not(x > z):\", not(x > z))"
      ],
      "metadata": {
        "colab": {
          "base_uri": "https://localhost:8080/"
        },
        "id": "n85Segxza0Rn",
        "outputId": "b92cd221-7d9f-41f7-c1ff-fa08c3cf0058"
      },
      "execution_count": 29,
      "outputs": [
        {
          "output_type": "stream",
          "name": "stdout",
          "text": [
            "x < y and y > z: True\n",
            "x > y and y > z: False\n",
            "\n",
            "x < y or y < z: True\n",
            "x > y or y < z: False\n",
            "\n",
            "not(x < y): True\n",
            "not(x > y): False\n"
          ]
        }
      ]
    },
    {
      "cell_type": "code",
      "source": [
        "#9. Write a Python program to convert user input from string to integer, float, and boolean types.\n",
        "str_value = input(\"enter a value \")\n",
        "int_value = int(str_value)\n",
        "float_value = float(str_value)\n",
        "bool_value = bool(str_value)\n",
        "print(\"string value:\",str_value)\n",
        "print(\"integer value:\",int_value)\n",
        "print(\"float value:\",float_value)\n",
        "print(\"boolean value:\",bool_value)\n"
      ],
      "metadata": {
        "colab": {
          "base_uri": "https://localhost:8080/"
        },
        "id": "HYsdubP9a0Us",
        "outputId": "2467b300-1cb4-4301-95b8-ef058bbac03c"
      },
      "execution_count": 33,
      "outputs": [
        {
          "output_type": "stream",
          "name": "stdout",
          "text": [
            "enter a value 6\n",
            "string value: 6\n",
            "integer value: 6\n",
            "float value: 6.0\n",
            "boolean value: True\n"
          ]
        }
      ]
    },
    {
      "cell_type": "code",
      "source": [
        "# 10.Write code to demonstrate type casting with list elements\n",
        "list1 = [\"45\",\"33\",\"78\",\"96\"]\n",
        "\n",
        "print(\"Original list:\", list1)\n",
        "print(\"list1 types before casting:\")\n",
        "for item in list1:\n",
        "    print(item, \"--\", type(item))\n",
        "\n",
        "# Convert each element from string to integer using list comprehension\n",
        "int_list = [int(x) for x in list1]\n",
        "\n",
        "print(\"\\nList after type casting to integers:\", int_list)\n",
        "print(\"Data types after casting:\")\n",
        "for item in int_list:\n",
        "    print(item, '--', type(item))\n",
        "\n"
      ],
      "metadata": {
        "colab": {
          "base_uri": "https://localhost:8080/"
        },
        "id": "YwCpmMK5a0YI",
        "outputId": "e12e00b5-f174-4ce9-fef3-65a3ffd2d735"
      },
      "execution_count": 44,
      "outputs": [
        {
          "output_type": "stream",
          "name": "stdout",
          "text": [
            "Original list: ['45', '33', '78', '96']\n",
            "list1 types before casting:\n",
            "45 -- <class 'str'>\n",
            "33 -- <class 'str'>\n",
            "78 -- <class 'str'>\n",
            "96 -- <class 'str'>\n",
            "\n",
            "List after type casting to integers: [45, 33, 78, 96]\n",
            "Data types after casting:\n",
            "45 -- <class 'int'>\n",
            "33 -- <class 'int'>\n",
            "78 -- <class 'int'>\n",
            "96 -- <class 'int'>\n"
          ]
        }
      ]
    },
    {
      "cell_type": "code",
      "source": [
        "#11. Write a program that checks if a number is positive, negative, or zero\n",
        "number = float(input(\" enter the number :\" ))\n",
        "if number > 0:\n",
        "  print(\"the number is positive\")\n",
        "elif number < 0:\n",
        "  print(\" the number is negative\")\n",
        "else:\n",
        "  print(\"the number is zero\")"
      ],
      "metadata": {
        "colab": {
          "base_uri": "https://localhost:8080/"
        },
        "id": "vT5rzI8_oPGw",
        "outputId": "4eb70dff-0d17-49db-eb96-e86fca6e809a"
      },
      "execution_count": 47,
      "outputs": [
        {
          "output_type": "stream",
          "name": "stdout",
          "text": [
            " enter the number :0\n",
            "the number is zero\n"
          ]
        }
      ]
    },
    {
      "cell_type": "code",
      "source": [
        "#12. Write a for loop to print numbers from 1 to 10.\n",
        "for i in range(1,11):\n",
        "  print(i)"
      ],
      "metadata": {
        "colab": {
          "base_uri": "https://localhost:8080/"
        },
        "id": "B1psvxr2oPUW",
        "outputId": "237369d8-31ff-4473-b571-11b56f0e685b"
      },
      "execution_count": 48,
      "outputs": [
        {
          "output_type": "stream",
          "name": "stdout",
          "text": [
            "1\n",
            "2\n",
            "3\n",
            "4\n",
            "5\n",
            "6\n",
            "7\n",
            "8\n",
            "9\n",
            "10\n"
          ]
        }
      ]
    },
    {
      "cell_type": "code",
      "source": [
        "#13. Write a Python program to find the sum of all even numbers between 1 and 50\n",
        "even_number_sum = 0\n",
        "\n",
        "for i in range(1, 50):\n",
        "    if i % 2 == 0:\n",
        "        even_number_sum += i\n",
        "\n",
        "print(\"Sum of even numbers from 1 to 50 is:\", even_number_sum)\n"
      ],
      "metadata": {
        "colab": {
          "base_uri": "https://localhost:8080/"
        },
        "id": "Mmw1s4SdqcK6",
        "outputId": "59ae08a1-9ff5-4c9e-8877-a22b47bdcba2"
      },
      "execution_count": 68,
      "outputs": [
        {
          "output_type": "stream",
          "name": "stdout",
          "text": [
            "Sum of even numbers from 1 to 50 is: 600\n"
          ]
        }
      ]
    },
    {
      "cell_type": "code",
      "source": [
        "#14. Write a program to reverse a string using a while loop\n",
        "name = \"anmol\"\n",
        "while name != \"\":\n",
        "  print(name[::-1])\n",
        "  break"
      ],
      "metadata": {
        "colab": {
          "base_uri": "https://localhost:8080/"
        },
        "id": "OtTxkG62rtMC",
        "outputId": "388fd2c7-902f-4a42-e980-fd76f4148468"
      },
      "execution_count": 70,
      "outputs": [
        {
          "output_type": "stream",
          "name": "stdout",
          "text": [
            "lomna\n"
          ]
        }
      ]
    },
    {
      "cell_type": "code",
      "source": [
        "#15. Write a Python program to calculate the factorial of a number provided by the user using a while loop\n",
        "num = int(input(\"enter the number: \"))\n",
        "factorial = 1\n",
        "i = 1\n",
        "while i <= num:\n",
        "   factorial = factorial* i\n",
        "   i += 1\n",
        "print(f\"the factorial of {num} is {factorial}\")\n",
        "\n"
      ],
      "metadata": {
        "colab": {
          "base_uri": "https://localhost:8080/"
        },
        "id": "H9aB0T7ortYn",
        "outputId": "661bf057-462d-4f66-ff9b-35237a6c6732"
      },
      "execution_count": 77,
      "outputs": [
        {
          "output_type": "stream",
          "name": "stdout",
          "text": [
            "enter the number: 3\n",
            "the factorial of 3 is 6\n"
          ]
        }
      ]
    }
  ]
}